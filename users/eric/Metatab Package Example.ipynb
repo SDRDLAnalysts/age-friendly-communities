{
 "cells": [
  {
   "cell_type": "markdown",
   "metadata": {},
   "source": [
    "# Using Metatab Resources In Pandas\n",
    "\n",
    "There are two ways to use Metatab data package resources in Pandas. One is to use the CSV files directly, which is easy to do if the package is published to a repository. However, it is better to use the Metatab module to load the package metadata and create dataframes. \n",
    "\n",
    "\n",
    "## Using CSV Files Directly\n",
    "\n",
    "The simplest was to use the file in a metatab package is to load it's CSV file directly. You can get the CSV file URL from the data repostory page, such as [this page](http://data.sandiegodata.org/dataset/sandiegocounty-gov-adod-2012-sra-3/resource/fdbaa8b6-a975-4309-ab57-385d798d90e7) for the ADOD Prevalence data in the San Diego Elder Dementia dataset. \n",
    "\n",
    "While this is simple and portable, it does not give you the features of Metatab, such as built in schema documentation. \n"
   ]
  },
  {
   "cell_type": "code",
   "execution_count": 3,
   "metadata": {
    "collapsed": false
   },
   "outputs": [
    {
     "data": {
      "text/html": [
       "<div>\n",
       "<table border=\"1\" class=\"dataframe\">\n",
       "  <thead>\n",
       "    <tr style=\"text-align: right;\">\n",
       "      <th></th>\n",
       "      <th>region</th>\n",
       "      <th>adod_prevelance_2012</th>\n",
       "      <th>adod_prevelance_2020</th>\n",
       "      <th>adod_prevelance_2030</th>\n",
       "    </tr>\n",
       "  </thead>\n",
       "  <tbody>\n",
       "    <tr>\n",
       "      <th>0</th>\n",
       "      <td>Central San Diego</td>\n",
       "      <td>3193.0</td>\n",
       "      <td>4958</td>\n",
       "      <td>6424</td>\n",
       "    </tr>\n",
       "    <tr>\n",
       "      <th>1</th>\n",
       "      <td>Mid-City</td>\n",
       "      <td>3136.0</td>\n",
       "      <td>3698</td>\n",
       "      <td>4227</td>\n",
       "    </tr>\n",
       "    <tr>\n",
       "      <th>2</th>\n",
       "      <td>Southeast San Diego</td>\n",
       "      <td>3203.0</td>\n",
       "      <td>4160</td>\n",
       "      <td>4985</td>\n",
       "    </tr>\n",
       "    <tr>\n",
       "      <th>3</th>\n",
       "      <td>East</td>\n",
       "      <td>14865.0</td>\n",
       "      <td>18410</td>\n",
       "      <td>21489</td>\n",
       "    </tr>\n",
       "    <tr>\n",
       "      <th>4</th>\n",
       "      <td>Alpine</td>\n",
       "      <td>339.0</td>\n",
       "      <td>426</td>\n",
       "      <td>555</td>\n",
       "    </tr>\n",
       "  </tbody>\n",
       "</table>\n",
       "</div>"
      ],
      "text/plain": [
       "                region  adod_prevelance_2012  adod_prevelance_2020  \\\n",
       "0    Central San Diego                3193.0                  4958   \n",
       "1             Mid-City                3136.0                  3698   \n",
       "2  Southeast San Diego                3203.0                  4160   \n",
       "3                 East               14865.0                 18410   \n",
       "4               Alpine                 339.0                   426   \n",
       "\n",
       "   adod_prevelance_2030  \n",
       "0                  6424  \n",
       "1                  4227  \n",
       "2                  4985  \n",
       "3                 21489  \n",
       "4                   555  "
      ]
     },
     "execution_count": 3,
     "metadata": {},
     "output_type": "execute_result"
    }
   ],
   "source": [
    "import pandas as pd\n",
    "\n",
    "df = pd.read_csv('http://s3.amazonaws.com/library.metatab.org/sandiegocounty.gov-adod-2012-sra-3/data/adod-prevalence.csv')\n",
    "\n",
    "df.head()\n"
   ]
  },
  {
   "cell_type": "markdown",
   "metadata": {},
   "source": [
    "## Using the Metatab Package\n",
    "\n",
    "The second way to access a package is to use the metatab package. This method requires installing the metatab python package, but has some important advantages: it gives you direct access to package and dataset documentation. You can load any type of metatab package with the `open_package()` function, but for the highest performance, you should use the CSV package. Opening CSV package loads only the metadata and the resources you need, while using a ZIP or Excel packackage requires downloading the entire package first. \n",
    "\n",
    "To find the CSV package in a package that is publiched to a CKAN repository, look for a CSV file with the description of \"CSV Package Metadata in Metatab format\". For the ADOD package, this file is named `sandiegocounty.gov-adod-2012-sra-3.csv`. \n",
    "\n",
    "Opening the package returns a Metatab document object. If you display it in Jupyter, the output cell will display the package documentation. \n",
    "\n"
   ]
  },
  {
   "cell_type": "code",
   "execution_count": 7,
   "metadata": {
    "collapsed": false
   },
   "outputs": [
    {
     "data": {
      "text/html": [
       "\n",
       "<h1>San Diego Elder Dementia</h1>\n",
       "<p>sandiegocounty.gov-adod-2012-sra-3</p>\n",
       "<p>Current (2012) ADOD and General population data along with projections for 2020 and 2030 for San Diego county</p>\n",
       "<h2>Documentation</h2>\n",
       "\n",
       "<p><strong><a href=\"http://www.sandiegocounty.gov/content/sdc/hhsa/programs/phs/community_health_statistics/reports.html\" target=\"_blank\" >SD County HHSA Reports</a> </strong>None</p>\n",
       "<p><strong><a href=\"file:docs/sd-county-hhsa-adod-packet-upates.pdf\" >SD County HHSA ADOD Packet Upates</a> </strong>Updates to the SD HHSA ADOD profiles in the county. All data is extracted from this document</p>\n",
       "<h2>Contacts</h2>\n",
       "\n",
       "<p><strong>Origin: </strong> <a href=\"http://www.sandiegocounty.gov/hhsa/\" target=\"_blank\" >County of San Diego Health and Human Services Agency</a></p>\n",
       "<p><strong>Creator: </strong><a href=\"mailto:Leslie.Ray@sdcounty.ca.gov.\" target=\"_blank\" >Lesie Ray</a> </p>\n",
       "<p><strong>Wrangler: </strong><a href=\"mailto:rashmi.k.iyengar@gmail.com\" target=\"_blank\" >Rashmi Keshava Iyengar</a> <a href=\"http://www.sandiegodata.org\" target=\"_blank\" >San Diego Regional Data Library</a></p>\n",
       "<p><strong>Wrangler: </strong><a href=\"mailto:eric@sandiegodata.org\" target=\"_blank\" >Eric Busboom</a> <a href=\"http://www.civicknowledge.com\" target=\"_blank\" >Civic Knowledge</a></p>\n",
       "<h2>Resources</h2>\n",
       "<ol>\n",
       "<li><p><strong>adod-prevalence</strong> - <a target=\"_blank\" href=\"http://s3.amazonaws.com/library.metatab.org/sandiegocounty.gov-adod-2012-sra-3/data/adod-prevalence.csv\">http://s3.amazonaws.com/library.metatab.org/sandiegocounty.gov-adod-2012-sra-3/data/adod-prevalence.csv</a> Table 1. Estimates of Prevalence of Alzheimer's Disease and Other Dementias by Subregional Area, 55 Years and Over, San Diego County, 2012 - 2030</p></li>\n",
       "<li><p><strong>hospital-discharge</strong> - <a target=\"_blank\" href=\"http://s3.amazonaws.com/library.metatab.org/sandiegocounty.gov-adod-2012-sra-3/data/hospital-discharge.csv\">http://s3.amazonaws.com/library.metatab.org/sandiegocounty.gov-adod-2012-sra-3/data/hospital-discharge.csv</a> Table 2. Number of Emergency Department or Hospital Discharged Patients with Any Mention of Alzheimer's Disease and Other Dementias by Subregional Area, 55 Years and Over, San Diego County, 2012 - 2030</p></li>\n",
       "<li><p><strong>elder-population-2012</strong> - <a target=\"_blank\" href=\"http://s3.amazonaws.com/library.metatab.org/sandiegocounty.gov-adod-2012-sra-3/data/elder-population-2012.csv\">http://s3.amazonaws.com/library.metatab.org/sandiegocounty.gov-adod-2012-sra-3/data/elder-population-2012.csv</a> Table 3. 2012 Population by Age Group and Subregional Area, 55 Years and Over, San Diego County</p></li>\n",
       "<li><p><strong>elder-population-2020</strong> - <a target=\"_blank\" href=\"http://s3.amazonaws.com/library.metatab.org/sandiegocounty.gov-adod-2012-sra-3/data/elder-population-2020.csv\">http://s3.amazonaws.com/library.metatab.org/sandiegocounty.gov-adod-2012-sra-3/data/elder-population-2020.csv</a> Table 4. 2020 Population Projections by Age Group and Subregional Area, 55 Years and Over, San Diego County</p></li>\n",
       "<li><p><strong>elder-population-2030</strong> - <a target=\"_blank\" href=\"http://s3.amazonaws.com/library.metatab.org/sandiegocounty.gov-adod-2012-sra-3/data/elder-population-2030.csv\">http://s3.amazonaws.com/library.metatab.org/sandiegocounty.gov-adod-2012-sra-3/data/elder-population-2030.csv</a> Table 5. 2030 Population Projections by Age Group and Subregional Area, 55 Years and Over, San Diego County</p></li>\n",
       "</ol>\n"
      ],
      "text/plain": [
       "<metatab.doc.MetatabDoc at 0x113652860>"
      ]
     },
     "execution_count": 7,
     "metadata": {},
     "output_type": "execute_result"
    }
   ],
   "source": [
    "import metatab\n",
    "doc = metatab.open_package('http://s3.amazonaws.com/library.metatab.org/sandiegocounty.gov-adod-2012-sra-3.csv')\n",
    "doc"
   ]
  },
  {
   "cell_type": "markdown",
   "metadata": {},
   "source": [
    "The `.resource()` method will return one of the resoruces. Displaying it shows the resoruce documentation. "
   ]
  },
  {
   "cell_type": "code",
   "execution_count": 4,
   "metadata": {
    "collapsed": false
   },
   "outputs": [
    {
     "data": {
      "text/html": [
       "<h3><a name=\"resource-adod-prevalence\"></a>adod-prevalence</h3><p><a target=\"_blank\" href=\"http://s3.amazonaws.com/library.metatab.org/sandiegocounty.gov-adod-2012-sra-3/data/adod-prevalence.csv\">http://s3.amazonaws.com/library.metatab.org/sandiegocounty.gov-adod-2012-sra-3/data/adod-prevalence.csv</a></p><table>\n",
       "<tr><th>Header</th><th>Type</th><th>Description</th></tr><tr><td>region</td><td>text</td><td></td></tr> \n",
       "<tr><td>adod_prevelance_2012</td><td>integer</td><td></td></tr> \n",
       "<tr><td>adod_prevelance_2020</td><td>integer</td><td></td></tr> \n",
       "<tr><td>adod_prevelance_2030</td><td>integer</td><td></td></tr> </table>"
      ],
      "text/plain": [
       "<Term: sandiegocounty.gov-adod-2012-sra-3.csv 25:1 root.datafile http://s3.amazonaws.com/library.metatab.org/sandiegocounty.gov-adod-2012-sra-3/data/adod-prevalence.csv ['adod-prevalence', \"Table 1. Estimates of Prevalence of Alzheimer's Disease and Other Dementias by Subregional Area, 55 Years and Over, San Diego County, 2012 - 2030\"]>"
      ]
     },
     "execution_count": 4,
     "metadata": {},
     "output_type": "execute_result"
    }
   ],
   "source": [
    "r = doc.resource('adod-prevalence')\n",
    "r"
   ]
  },
  {
   "cell_type": "markdown",
   "metadata": {},
   "source": [
    "Once you have a resource, use the `.dataframe()` method to get a Pandas dataframe. "
   ]
  },
  {
   "cell_type": "code",
   "execution_count": 6,
   "metadata": {
    "collapsed": false
   },
   "outputs": [
    {
     "data": {
      "text/html": [
       "<div>\n",
       "<table border=\"1\" class=\"dataframe\">\n",
       "  <thead>\n",
       "    <tr style=\"text-align: right;\">\n",
       "      <th></th>\n",
       "      <th>region</th>\n",
       "      <th>adod_prevelance_2012</th>\n",
       "      <th>adod_prevelance_2020</th>\n",
       "      <th>adod_prevelance_2030</th>\n",
       "    </tr>\n",
       "  </thead>\n",
       "  <tbody>\n",
       "    <tr>\n",
       "      <th>0</th>\n",
       "      <td>Central San Diego</td>\n",
       "      <td>3193.0</td>\n",
       "      <td>4958</td>\n",
       "      <td>6424</td>\n",
       "    </tr>\n",
       "    <tr>\n",
       "      <th>1</th>\n",
       "      <td>Mid-City</td>\n",
       "      <td>3136.0</td>\n",
       "      <td>3698</td>\n",
       "      <td>4227</td>\n",
       "    </tr>\n",
       "    <tr>\n",
       "      <th>2</th>\n",
       "      <td>Southeast San Diego</td>\n",
       "      <td>3203.0</td>\n",
       "      <td>4160</td>\n",
       "      <td>4985</td>\n",
       "    </tr>\n",
       "    <tr>\n",
       "      <th>3</th>\n",
       "      <td>East</td>\n",
       "      <td>14865.0</td>\n",
       "      <td>18410</td>\n",
       "      <td>21489</td>\n",
       "    </tr>\n",
       "    <tr>\n",
       "      <th>4</th>\n",
       "      <td>Alpine</td>\n",
       "      <td>339.0</td>\n",
       "      <td>426</td>\n",
       "      <td>555</td>\n",
       "    </tr>\n",
       "  </tbody>\n",
       "</table>\n",
       "</div>"
      ],
      "text/plain": [
       "                region  adod_prevelance_2012  adod_prevelance_2020  \\\n",
       "0    Central San Diego                3193.0                  4958   \n",
       "1             Mid-City                3136.0                  3698   \n",
       "2  Southeast San Diego                3203.0                  4160   \n",
       "3                 East               14865.0                 18410   \n",
       "4               Alpine                 339.0                   426   \n",
       "\n",
       "   adod_prevelance_2030  \n",
       "0                  6424  \n",
       "1                  4227  \n",
       "2                  4985  \n",
       "3                 21489  \n",
       "4                   555  "
      ]
     },
     "execution_count": 6,
     "metadata": {},
     "output_type": "execute_result"
    }
   ],
   "source": [
    "df = r.dataframe()\n",
    "df.head()"
   ]
  },
  {
   "cell_type": "code",
   "execution_count": null,
   "metadata": {
    "collapsed": true
   },
   "outputs": [],
   "source": []
  }
 ],
 "metadata": {
  "kernelspec": {
   "display_name": "Python 3",
   "language": "python",
   "name": "python3"
  },
  "language_info": {
   "codemirror_mode": {
    "name": "ipython",
    "version": 3
   },
   "file_extension": ".py",
   "mimetype": "text/x-python",
   "name": "python",
   "nbconvert_exporter": "python",
   "pygments_lexer": "ipython3",
   "version": "3.5.0"
  }
 },
 "nbformat": 4,
 "nbformat_minor": 2
}
