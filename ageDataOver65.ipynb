{
 "cells": [
  {
   "cell_type": "markdown",
   "metadata": {},
   "source": [
    "# This is the companion jupyter notebook to 'ageDataOver65.py'.\n",
    "\n",
    "## Purpose: open a CSV file from https://censusreporter.org/ and recode it with the corresponding JSON metadata file.\n",
    "\n",
    "Written by CC on 20161228"
   ]
  },
  {
   "cell_type": "code",
   "execution_count": 1,
   "metadata": {
    "collapsed": true
   },
   "outputs": [],
   "source": [
    "import pandas\n",
    "import numpy\n",
    "import os\n",
    "import ijson"
   ]
  },
  {
   "cell_type": "code",
   "execution_count": 2,
   "metadata": {
    "collapsed": true
   },
   "outputs": [],
   "source": [
    "path = os.chdir('/Users/superuser/Documents/projects/SDRegionalDataLib/age friendly community/acs2015_1yr_B01001/')"
   ]
  },
  {
   "cell_type": "code",
   "execution_count": 3,
   "metadata": {
    "collapsed": false,
    "scrolled": true
   },
   "outputs": [
    {
     "data": {
      "text/html": [
       "<div>\n",
       "<table border=\"1\" class=\"dataframe\">\n",
       "  <thead>\n",
       "    <tr style=\"text-align: right;\">\n",
       "      <th></th>\n",
       "      <th>geoid</th>\n",
       "      <th>name</th>\n",
       "      <th>B01001001</th>\n",
       "      <th>B01001001, Error</th>\n",
       "      <th>B01001002</th>\n",
       "      <th>B01001002, Error</th>\n",
       "      <th>B01001003</th>\n",
       "      <th>B01001003, Error</th>\n",
       "      <th>B01001004</th>\n",
       "      <th>B01001004, Error</th>\n",
       "      <th>...</th>\n",
       "      <th>B01001045</th>\n",
       "      <th>B01001045, Error</th>\n",
       "      <th>B01001046</th>\n",
       "      <th>B01001046, Error</th>\n",
       "      <th>B01001047</th>\n",
       "      <th>B01001047, Error</th>\n",
       "      <th>B01001048</th>\n",
       "      <th>B01001048, Error</th>\n",
       "      <th>B01001049</th>\n",
       "      <th>B01001049, Error</th>\n",
       "    </tr>\n",
       "  </thead>\n",
       "  <tbody>\n",
       "    <tr>\n",
       "      <th>0</th>\n",
       "      <td>16000US0666000</td>\n",
       "      <td>San Diego, CA</td>\n",
       "      <td>1394907</td>\n",
       "      <td>83</td>\n",
       "      <td>693826</td>\n",
       "      <td>6780</td>\n",
       "      <td>45036</td>\n",
       "      <td>3224</td>\n",
       "      <td>40131</td>\n",
       "      <td>3386</td>\n",
       "      <td>...</td>\n",
       "      <td>19137</td>\n",
       "      <td>2032</td>\n",
       "      <td>19728</td>\n",
       "      <td>1815</td>\n",
       "      <td>14059</td>\n",
       "      <td>1730</td>\n",
       "      <td>12966</td>\n",
       "      <td>1649</td>\n",
       "      <td>13440</td>\n",
       "      <td>1875</td>\n",
       "    </tr>\n",
       "  </tbody>\n",
       "</table>\n",
       "<p>1 rows × 100 columns</p>\n",
       "</div>"
      ],
      "text/plain": [
       "            geoid           name  B01001001  B01001001, Error  B01001002  \\\n",
       "0  16000US0666000  San Diego, CA    1394907                83     693826   \n",
       "\n",
       "   B01001002, Error  B01001003  B01001003, Error  B01001004  B01001004, Error  \\\n",
       "0              6780      45036              3224      40131              3386   \n",
       "\n",
       "         ...         B01001045  B01001045, Error  B01001046  B01001046, Error  \\\n",
       "0        ...             19137              2032      19728              1815   \n",
       "\n",
       "   B01001047  B01001047, Error  B01001048  B01001048, Error  B01001049  \\\n",
       "0      14059              1730      12966              1649      13440   \n",
       "\n",
       "   B01001049, Error  \n",
       "0              1875  \n",
       "\n",
       "[1 rows x 100 columns]"
      ]
     },
     "execution_count": 3,
     "metadata": {},
     "output_type": "execute_result"
    }
   ],
   "source": [
    "ageData = pandas.read_csv('acs2015_1yr_B01001.csv');\n",
    "ageData.head()"
   ]
  },
  {
   "cell_type": "markdown",
   "metadata": {},
   "source": [
    "#### <font color = 'blue'> get a list of the column names </font>"
   ]
  },
  {
   "cell_type": "code",
   "execution_count": 4,
   "metadata": {
    "collapsed": false,
    "scrolled": false
   },
   "outputs": [
    {
     "data": {
      "text/plain": [
       "['geoid',\n",
       " 'name',\n",
       " 'B01001001',\n",
       " 'B01001001, Error',\n",
       " 'B01001002',\n",
       " 'B01001002, Error',\n",
       " 'B01001003',\n",
       " 'B01001003, Error',\n",
       " 'B01001004']"
      ]
     },
     "execution_count": 4,
     "metadata": {},
     "output_type": "execute_result"
    }
   ],
   "source": [
    "colNames = list(ageData.columns.values)\n",
    "\n",
    "#show the first ten coded column names\n",
    "colNames[0:9]"
   ]
  },
  {
   "cell_type": "code",
   "execution_count": 5,
   "metadata": {
    "collapsed": false,
    "scrolled": true
   },
   "outputs": [
    {
     "data": {
      "text/plain": [
       "[{'B01001001': {'indent': 0, 'name': 'Total:'},\n",
       "  'B01001002': {'indent': 1, 'name': 'Male:'},\n",
       "  'B01001003': {'indent': 3, 'name': 'Under 5 years'},\n",
       "  'B01001004': {'indent': 3, 'name': '5 to 9 years'},\n",
       "  'B01001005': {'indent': 3, 'name': '10 to 14 years'},\n",
       "  'B01001006': {'indent': 3, 'name': '15 to 17 years'},\n",
       "  'B01001007': {'indent': 3, 'name': '18 and 19 years'},\n",
       "  'B01001008': {'indent': 3, 'name': '20 years'},\n",
       "  'B01001009': {'indent': 3, 'name': '21 years'},\n",
       "  'B01001010': {'indent': 3, 'name': '22 to 24 years'},\n",
       "  'B01001011': {'indent': 3, 'name': '25 to 29 years'},\n",
       "  'B01001012': {'indent': 3, 'name': '30 to 34 years'},\n",
       "  'B01001013': {'indent': 3, 'name': '35 to 39 years'},\n",
       "  'B01001014': {'indent': 3, 'name': '40 to 44 years'},\n",
       "  'B01001015': {'indent': 3, 'name': '45 to 49 years'},\n",
       "  'B01001016': {'indent': 3, 'name': '50 to 54 years'},\n",
       "  'B01001017': {'indent': 3, 'name': '55 to 59 years'},\n",
       "  'B01001018': {'indent': 3, 'name': '60 and 61 years'},\n",
       "  'B01001019': {'indent': 3, 'name': '62 to 64 years'},\n",
       "  'B01001020': {'indent': 3, 'name': '65 and 66 years'},\n",
       "  'B01001021': {'indent': 3, 'name': '67 to 69 years'},\n",
       "  'B01001022': {'indent': 3, 'name': '70 to 74 years'},\n",
       "  'B01001023': {'indent': 3, 'name': '75 to 79 years'},\n",
       "  'B01001024': {'indent': 3, 'name': '80 to 84 years'},\n",
       "  'B01001025': {'indent': 3, 'name': '85 years and over'},\n",
       "  'B01001026': {'indent': 1, 'name': 'Female:'},\n",
       "  'B01001027': {'indent': 3, 'name': 'Under 5 years'},\n",
       "  'B01001028': {'indent': 3, 'name': '5 to 9 years'},\n",
       "  'B01001029': {'indent': 3, 'name': '10 to 14 years'},\n",
       "  'B01001030': {'indent': 3, 'name': '15 to 17 years'},\n",
       "  'B01001031': {'indent': 3, 'name': '18 and 19 years'},\n",
       "  'B01001032': {'indent': 3, 'name': '20 years'},\n",
       "  'B01001033': {'indent': 3, 'name': '21 years'},\n",
       "  'B01001034': {'indent': 3, 'name': '22 to 24 years'},\n",
       "  'B01001035': {'indent': 3, 'name': '25 to 29 years'},\n",
       "  'B01001036': {'indent': 3, 'name': '30 to 34 years'},\n",
       "  'B01001037': {'indent': 3, 'name': '35 to 39 years'},\n",
       "  'B01001038': {'indent': 3, 'name': '40 to 44 years'},\n",
       "  'B01001039': {'indent': 3, 'name': '45 to 49 years'},\n",
       "  'B01001040': {'indent': 3, 'name': '50 to 54 years'},\n",
       "  'B01001041': {'indent': 3, 'name': '55 to 59 years'},\n",
       "  'B01001042': {'indent': 3, 'name': '60 and 61 years'},\n",
       "  'B01001043': {'indent': 3, 'name': '62 to 64 years'},\n",
       "  'B01001044': {'indent': 3, 'name': '65 and 66 years'},\n",
       "  'B01001045': {'indent': 3, 'name': '67 to 69 years'},\n",
       "  'B01001046': {'indent': 3, 'name': '70 to 74 years'},\n",
       "  'B01001047': {'indent': 3, 'name': '75 to 79 years'},\n",
       "  'B01001048': {'indent': 3, 'name': '80 to 84 years'},\n",
       "  'B01001049': {'indent': 3, 'name': '85 years and over'}}]"
      ]
     },
     "execution_count": 5,
     "metadata": {},
     "output_type": "execute_result"
    }
   ],
   "source": [
    "#open the json file\n",
    "jsonFile = 'metadata.json';\n",
    "\n",
    "with open(jsonFile, 'r') as f:\n",
    "    objects = ijson.items(f, 'tables.B01001.columns')\n",
    "    columnAttr = list(objects)\n",
    "\n",
    "#show the values of columnAttr\n",
    "columnAttr[:]"
   ]
  },
  {
   "cell_type": "markdown",
   "metadata": {},
   "source": [
    "#### <font color='blue'> function: getRecodingKeys filters out column names that don't need to be recoded </font>\n",
    "\n",
    "#### <font color = 'blue'> codingDF is a lookup table that can be use to recode the column names of ageData </font>"
   ]
  },
  {
   "cell_type": "code",
   "execution_count": 6,
   "metadata": {
    "collapsed": true
   },
   "outputs": [],
   "source": [
    "def getRecodingKeys(element):\n",
    "    if ('Error' not in element) and ('name' != element) and ('geoid' != element):\n",
    "        return element\n",
    "    return False\n",
    "\n",
    "#filter out the original column names that don't require recoding\n",
    "codingDF = pandas.DataFrame({'origColNames': list(filter(getRecodingKeys, colNames))})\n",
    "\n",
    "#add a new column to codingDF that contains the recoded ageDF column names\n",
    "codingDF['recodeColName'] = ''"
   ]
  },
  {
   "cell_type": "markdown",
   "metadata": {},
   "source": [
    "codingDF is intended to be used as a lookup table for recoding. <br />\n",
    "codingDF contains 2 columns: <br />\n",
    "origColNames: contain the original coded column name in the ageData dataframe <br />\n",
    "\n",
    "recodeColName: contains the actual column names that are a lot more descriptive than the coded column names in the ageData dataframe"
   ]
  },
  {
   "cell_type": "code",
   "execution_count": 7,
   "metadata": {
    "collapsed": false,
    "scrolled": true
   },
   "outputs": [
    {
     "data": {
      "text/html": [
       "<div>\n",
       "<table border=\"1\" class=\"dataframe\">\n",
       "  <thead>\n",
       "    <tr style=\"text-align: right;\">\n",
       "      <th></th>\n",
       "      <th>origColNames</th>\n",
       "      <th>recodeColName</th>\n",
       "    </tr>\n",
       "  </thead>\n",
       "  <tbody>\n",
       "    <tr>\n",
       "      <th>0</th>\n",
       "      <td>B01001001</td>\n",
       "      <td>Total:</td>\n",
       "    </tr>\n",
       "    <tr>\n",
       "      <th>1</th>\n",
       "      <td>B01001002</td>\n",
       "      <td>Male:</td>\n",
       "    </tr>\n",
       "    <tr>\n",
       "      <th>2</th>\n",
       "      <td>B01001003</td>\n",
       "      <td>Under 5 years</td>\n",
       "    </tr>\n",
       "    <tr>\n",
       "      <th>3</th>\n",
       "      <td>B01001004</td>\n",
       "      <td>5 to 9 years</td>\n",
       "    </tr>\n",
       "    <tr>\n",
       "      <th>4</th>\n",
       "      <td>B01001005</td>\n",
       "      <td>10 to 14 years</td>\n",
       "    </tr>\n",
       "  </tbody>\n",
       "</table>\n",
       "</div>"
      ],
      "text/plain": [
       "  origColNames   recodeColName\n",
       "0    B01001001          Total:\n",
       "1    B01001002           Male:\n",
       "2    B01001003   Under 5 years\n",
       "3    B01001004    5 to 9 years\n",
       "4    B01001005  10 to 14 years"
      ]
     },
     "execution_count": 7,
     "metadata": {},
     "output_type": "execute_result"
    }
   ],
   "source": [
    "#append the recodedColNames to codingDF.recodeColName\n",
    "for idx, origColName in enumerate(codingDF.origColNames):\n",
    "    codingDF.recodeColName[idx] = columnAttr[0][origColName]['name']\n",
    "\n",
    "codingDF.head()"
   ]
  },
  {
   "cell_type": "markdown",
   "metadata": {},
   "source": [
    "The 2 cells below are my attempts to recode the ageData column names. <br />\n",
    "\n",
    "Some things to deal with: <br />\n",
    "1) Each coded column name in the ageData dataframe 'B01001xxx' for instance has a corresponding column cotaining the error of each measurement with a column name 'B01001xxx, Error'.\n",
    "\n",
    "2) Finding the index values of python/pandas dataframe where the rows are equal to a certain value.  In CRAN-R you could execute the following code: 'index = which(dataFrame$column=='B01001xxx')'.  A python/pandas equivalent would be great if there is one."
   ]
  },
  {
   "cell_type": "code",
   "execution_count": null,
   "metadata": {
    "collapsed": true
   },
   "outputs": [],
   "source": [
    "#recode ageData with the actual column names\n",
    "for idx, col in enumerate(ageData.columns):\n",
    "    if  codingDF.origColNames.str.contains(col): #codingDF.origColNames.str.contains(ageData.columns[idx]):\n",
    "        colMatchIDX = codingDF.origColNames.get_loc(col)\n",
    "        if ageData.columns[idx].str.contains('Error'):\n",
    "            tempColName = codingDF.recodeColName[colMatchIDX] + '_Error'\n",
    "            ageData.columns[idx] = tempColName\n",
    "        else:\n",
    "            tempColName = codingDF.recodeColName[colMatchIDX]"
   ]
  },
  {
   "cell_type": "code",
   "execution_count": null,
   "metadata": {
    "collapsed": true
   },
   "outputs": [],
   "source": [
    "#recode ageData with the actual column names\n",
    "for idx, col in enumerate(ageData.columns):\n",
    "    if  codingDF.origColNames.str.contains(col): #codingDF.origColNames.str.contains(ageData.columns[idx]):\n",
    "        colMatchIDX = codingDF.origColNames.get_loc(col)\n",
    "        if ageData.columns[idx].str.contains('Error'):\n",
    "            tempColName = codingDF.recodeColName[colMatchIDX] + '_Error'\n",
    "            ageData.rename(columns={col:tempColName}, inplace=True)\n",
    "        else:\n",
    "            tempColName = codingDF.recodeColName[colMatchIDX]\n",
    "            print(tempColName)\n",
    "            ageData.rename(columns={col:tempColName}, inplace=True)"
   ]
  }
 ],
 "metadata": {
  "anaconda-cloud": {},
  "kernelspec": {
   "display_name": "Python [conda root]",
   "language": "python",
   "name": "conda-root-py"
  },
  "language_info": {
   "codemirror_mode": {
    "name": "ipython",
    "version": 3
   },
   "file_extension": ".py",
   "mimetype": "text/x-python",
   "name": "python",
   "nbconvert_exporter": "python",
   "pygments_lexer": "ipython3",
   "version": "3.5.2"
  }
 },
 "nbformat": 4,
 "nbformat_minor": 1
}
